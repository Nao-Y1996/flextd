{
 "cells": [
  {
   "metadata": {},
   "cell_type": "markdown",
   "source": "### Sample of create_filtered_annotation_file method",
   "id": "8b81899b4254f6e5"
  },
  {
   "metadata": {},
   "cell_type": "code",
   "source": [
    "# download coco2017 dataset\n",
    "!wget http://images.cocodataset.org/zips/val2017.zip\n",
    "!wget http://images.cocodataset.org/annotations/annotations_trainval2017.zip\n",
    "!unzip val2017.zip\n",
    "!unzip annotations_trainval2017.zip"
   ],
   "id": "9568c0866bcd6eb8",
   "execution_count": null,
   "outputs": []
  },
  {
   "cell_type": "code",
   "id": "initial_id",
   "metadata": {
    "collapsed": true,
    "ExecuteTime": {
     "end_time": "2024-05-18T10:21:07.216895Z",
     "start_time": "2024-05-18T10:21:05.952177Z"
    }
   },
   "source": [
    "import json\n",
    "\n",
    "# check the number of images in the original annotation file\n",
    "ann_path = \"./annotations/instances_val2017.json\"\n",
    "with open(ann_path, \"r\") as f:\n",
    "    coco_filtered = json.load(f)\n",
    "images = [image[\"file_name\"] for image in coco_filtered[\"images\"]]\n",
    "print(len(images))\n"
   ],
   "execution_count": 1,
   "outputs": []
  },
  {
   "metadata": {
    "ExecuteTime": {
     "end_time": "2024-05-18T10:21:10.691626Z",
     "start_time": "2024-05-18T10:21:08.819039Z"
    }
   },
   "cell_type": "code",
   "source": [
    "# create a new annotation file with only \"car\" categories\n",
    "from flextd.flexcoco.utils import create_filtered_annotation_file\n",
    "new_ann_path = ann_path.replace(\".json\", f\"_filtered.json\")\n",
    "coco_filtered_path = create_filtered_annotation_file(ann_path, new_ann_path, include_categories=[\"car\"])\n",
    "coco_filtered_path"
   ],
   "id": "f204547f3407a6e0",
   "execution_count": 2,
   "outputs": []
  },
  {
   "metadata": {
    "ExecuteTime": {
     "end_time": "2024-05-18T10:21:12.550302Z",
     "start_time": "2024-05-18T10:21:12.403161Z"
    }
   },
   "cell_type": "code",
   "source": [
    "# check the number of images in the new annotation file\n",
    "with open(coco_filtered_path, \"r\") as f:\n",
    "    coco_filtered = json.load(f)\n",
    "images = [image[\"file_name\"] for image in coco_filtered[\"images\"]]\n",
    "print(len(images))"
   ],
   "id": "874000cc624b38e1",
   "execution_count": 3,
   "outputs": []
  },
  {
   "metadata": {
    "ExecuteTime": {
     "end_time": "2024-05-18T10:21:16.832320Z",
     "start_time": "2024-05-18T10:21:16.828015Z"
    }
   },
   "cell_type": "code",
   "source": [
    "# check the categories in the new annotation file\n",
    "categories = [category[\"name\"] for category in coco_filtered[\"categories\"]]\n",
    "print(categories)"
   ],
   "id": "8376e6a2b1ee8071",
   "execution_count": 4,
   "outputs": []
  },
  {
   "metadata": {},
   "cell_type": "code",
   "source": "",
   "id": "a456de756f9a291b",
   "execution_count": null,
   "outputs": []
  }
 ],
 "metadata": {
  "kernelspec": {
   "display_name": "Python 3",
   "language": "python",
   "name": "python3"
  },
  "language_info": {
   "codemirror_mode": {
    "name": "ipython",
    "version": 2
   },
   "file_extension": ".py",
   "mimetype": "text/x-python",
   "name": "python",
   "nbconvert_exporter": "python",
   "pygments_lexer": "ipython2",
   "version": "2.7.6"
  }
 },
 "nbformat": 4,
 "nbformat_minor": 5
}
